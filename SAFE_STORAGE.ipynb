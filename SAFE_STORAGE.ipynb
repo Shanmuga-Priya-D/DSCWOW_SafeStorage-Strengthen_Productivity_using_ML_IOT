{
  "nbformat": 4,
  "nbformat_minor": 0,
  "metadata": {
    "colab": {
      "name": "SAFE_STORAGE.ipynb",
      "provenance": [],
      "include_colab_link": true
    },
    "kernelspec": {
      "name": "python3",
      "display_name": "Python 3"
    }
  },
  "cells": [
    {
      "cell_type": "markdown",
      "metadata": {
        "id": "view-in-github",
        "colab_type": "text"
      },
      "source": [
        "<a href=\"https://colab.research.google.com/github/lathamithu/DSCWOW_SafeStorage-Strengthen_Productivity_using_ML_IOT/blob/main/SAFE_STORAGE.ipynb\" target=\"_parent\"><img src=\"https://colab.research.google.com/assets/colab-badge.svg\" alt=\"Open In Colab\"/></a>"
      ]
    },
    {
      "cell_type": "code",
      "metadata": {
        "id": "fgbYzXDxAixZ"
      },
      "source": [
        "import numpy as np\n",
        "import pandas as pd\n",
        "import seaborn as sns\n",
        "import matplotlib.pyplot as plt\n",
        "%matplotlib inline\n",
        "sns.set(color_codes=True)"
      ],
      "execution_count": null,
      "outputs": []
    },
    {
      "cell_type": "code",
      "metadata": {
        "id": "aVmfqJFCA-ME"
      },
      "source": [
        "data=pd.read_csv(\"/content/birac (1).csv\")"
      ],
      "execution_count": null,
      "outputs": []
    },
    {
      "cell_type": "code",
      "metadata": {
        "id": "cHtvus-QBCN0",
        "colab": {
          "base_uri": "https://localhost:8080/",
          "height": 194
        },
        "outputId": "f6a76ddf-28be-4e01-c0b7-899876eaffa2"
      },
      "source": [
        "data.head()"
      ],
      "execution_count": null,
      "outputs": [
        {
          "output_type": "execute_result",
          "data": {
            "text/html": [
              "<div>\n",
              "<style scoped>\n",
              "    .dataframe tbody tr th:only-of-type {\n",
              "        vertical-align: middle;\n",
              "    }\n",
              "\n",
              "    .dataframe tbody tr th {\n",
              "        vertical-align: top;\n",
              "    }\n",
              "\n",
              "    .dataframe thead th {\n",
              "        text-align: right;\n",
              "    }\n",
              "</style>\n",
              "<table border=\"1\" class=\"dataframe\">\n",
              "  <thead>\n",
              "    <tr style=\"text-align: right;\">\n",
              "      <th></th>\n",
              "      <th>Unnamed: 0</th>\n",
              "      <th>STATE</th>\n",
              "      <th>MONTH</th>\n",
              "      <th>HUMIDITY</th>\n",
              "      <th>TEMPERATURE</th>\n",
              "      <th>MOISTURE</th>\n",
              "      <th>SAFE</th>\n",
              "    </tr>\n",
              "  </thead>\n",
              "  <tbody>\n",
              "    <tr>\n",
              "      <th>0</th>\n",
              "      <td>0</td>\n",
              "      <td>TN</td>\n",
              "      <td>JAN</td>\n",
              "      <td>75</td>\n",
              "      <td>25</td>\n",
              "      <td>8</td>\n",
              "      <td>395</td>\n",
              "    </tr>\n",
              "    <tr>\n",
              "      <th>1</th>\n",
              "      <td>1</td>\n",
              "      <td>TN</td>\n",
              "      <td>JAN</td>\n",
              "      <td>77</td>\n",
              "      <td>25</td>\n",
              "      <td>14</td>\n",
              "      <td>143</td>\n",
              "    </tr>\n",
              "    <tr>\n",
              "      <th>2</th>\n",
              "      <td>2</td>\n",
              "      <td>TN</td>\n",
              "      <td>JAN</td>\n",
              "      <td>76</td>\n",
              "      <td>25</td>\n",
              "      <td>29</td>\n",
              "      <td>19</td>\n",
              "    </tr>\n",
              "    <tr>\n",
              "      <th>3</th>\n",
              "      <td>3</td>\n",
              "      <td>TN</td>\n",
              "      <td>JAN</td>\n",
              "      <td>72</td>\n",
              "      <td>25</td>\n",
              "      <td>20</td>\n",
              "      <td>64</td>\n",
              "    </tr>\n",
              "    <tr>\n",
              "      <th>4</th>\n",
              "      <td>4</td>\n",
              "      <td>TN</td>\n",
              "      <td>JAN</td>\n",
              "      <td>73</td>\n",
              "      <td>25</td>\n",
              "      <td>15</td>\n",
              "      <td>64</td>\n",
              "    </tr>\n",
              "  </tbody>\n",
              "</table>\n",
              "</div>"
            ],
            "text/plain": [
              "   Unnamed: 0 STATE MONTH HUMIDITY TEMPERATURE MOISTURE SAFE\n",
              "0           0    TN   JAN       75          25        8  395\n",
              "1           1    TN   JAN       77          25       14  143\n",
              "2           2    TN   JAN       76          25       29   19\n",
              "3           3    TN   JAN       72          25       20   64\n",
              "4           4    TN   JAN       73          25       15   64"
            ]
          },
          "metadata": {
            "tags": []
          },
          "execution_count": 3
        }
      ]
    },
    {
      "cell_type": "code",
      "metadata": {
        "id": "CKwyuyEICCmZ",
        "colab": {
          "base_uri": "https://localhost:8080/"
        },
        "outputId": "ea0a0586-f3d4-41cb-981f-52c6442b63d7"
      },
      "source": [
        "data['SAFE'].isnull()"
      ],
      "execution_count": null,
      "outputs": [
        {
          "output_type": "execute_result",
          "data": {
            "text/plain": [
              "0       False\n",
              "1       False\n",
              "2       False\n",
              "3       False\n",
              "4       False\n",
              "        ...  \n",
              "1471    False\n",
              "1472    False\n",
              "1473    False\n",
              "1474    False\n",
              "1475    False\n",
              "Name: SAFE, Length: 1476, dtype: bool"
            ]
          },
          "metadata": {
            "tags": []
          },
          "execution_count": 4
        }
      ]
    },
    {
      "cell_type": "code",
      "metadata": {
        "id": "-TQnlbwxElZl"
      },
      "source": [
        "data.loc[data[\"SAFE\"]==\"NIL\"]=0"
      ],
      "execution_count": null,
      "outputs": []
    },
    {
      "cell_type": "code",
      "metadata": {
        "id": "ekx8s-dGG-go"
      },
      "source": [
        "data[\"SAFE\"]=pd.to_numeric(data[\"SAFE\"])"
      ],
      "execution_count": null,
      "outputs": []
    },
    {
      "cell_type": "code",
      "metadata": {
        "id": "AciKHvosFYVj",
        "colab": {
          "base_uri": "https://localhost:8080/",
          "height": 194
        },
        "outputId": "7c3eb8d1-9ba0-4a80-c3aa-7b934d600ef4"
      },
      "source": [
        "data.head()"
      ],
      "execution_count": null,
      "outputs": [
        {
          "output_type": "execute_result",
          "data": {
            "text/html": [
              "<div>\n",
              "<style scoped>\n",
              "    .dataframe tbody tr th:only-of-type {\n",
              "        vertical-align: middle;\n",
              "    }\n",
              "\n",
              "    .dataframe tbody tr th {\n",
              "        vertical-align: top;\n",
              "    }\n",
              "\n",
              "    .dataframe thead th {\n",
              "        text-align: right;\n",
              "    }\n",
              "</style>\n",
              "<table border=\"1\" class=\"dataframe\">\n",
              "  <thead>\n",
              "    <tr style=\"text-align: right;\">\n",
              "      <th></th>\n",
              "      <th>Unnamed: 0</th>\n",
              "      <th>STATE</th>\n",
              "      <th>MONTH</th>\n",
              "      <th>HUMIDITY</th>\n",
              "      <th>TEMPERATURE</th>\n",
              "      <th>MOISTURE</th>\n",
              "      <th>SAFE</th>\n",
              "    </tr>\n",
              "  </thead>\n",
              "  <tbody>\n",
              "    <tr>\n",
              "      <th>0</th>\n",
              "      <td>0</td>\n",
              "      <td>TN</td>\n",
              "      <td>JAN</td>\n",
              "      <td>75</td>\n",
              "      <td>25</td>\n",
              "      <td>8</td>\n",
              "      <td>395</td>\n",
              "    </tr>\n",
              "    <tr>\n",
              "      <th>1</th>\n",
              "      <td>1</td>\n",
              "      <td>TN</td>\n",
              "      <td>JAN</td>\n",
              "      <td>77</td>\n",
              "      <td>25</td>\n",
              "      <td>14</td>\n",
              "      <td>143</td>\n",
              "    </tr>\n",
              "    <tr>\n",
              "      <th>2</th>\n",
              "      <td>2</td>\n",
              "      <td>TN</td>\n",
              "      <td>JAN</td>\n",
              "      <td>76</td>\n",
              "      <td>25</td>\n",
              "      <td>29</td>\n",
              "      <td>19</td>\n",
              "    </tr>\n",
              "    <tr>\n",
              "      <th>3</th>\n",
              "      <td>3</td>\n",
              "      <td>TN</td>\n",
              "      <td>JAN</td>\n",
              "      <td>72</td>\n",
              "      <td>25</td>\n",
              "      <td>20</td>\n",
              "      <td>64</td>\n",
              "    </tr>\n",
              "    <tr>\n",
              "      <th>4</th>\n",
              "      <td>4</td>\n",
              "      <td>TN</td>\n",
              "      <td>JAN</td>\n",
              "      <td>73</td>\n",
              "      <td>25</td>\n",
              "      <td>15</td>\n",
              "      <td>64</td>\n",
              "    </tr>\n",
              "  </tbody>\n",
              "</table>\n",
              "</div>"
            ],
            "text/plain": [
              "   Unnamed: 0 STATE MONTH HUMIDITY TEMPERATURE MOISTURE  SAFE\n",
              "0           0    TN   JAN       75          25        8   395\n",
              "1           1    TN   JAN       77          25       14   143\n",
              "2           2    TN   JAN       76          25       29    19\n",
              "3           3    TN   JAN       72          25       20    64\n",
              "4           4    TN   JAN       73          25       15    64"
            ]
          },
          "metadata": {
            "tags": []
          },
          "execution_count": 7
        }
      ]
    },
    {
      "cell_type": "code",
      "metadata": {
        "id": "r0xHHBE_BKCE"
      },
      "source": [
        "from sklearn.model_selection import train_test_split\n",
        "feature_col_names=['HUMIDITY','TEMPERATURE','MOISTURE']\n",
        "predicted_class_name=['SAFE']\n",
        "x=data[feature_col_names].values\n",
        "y=data[predicted_class_name].values\n",
        "split_test_size=0.30\n",
        "x_train,x_test,y_train,y_test=train_test_split(x,y,test_size=split_test_size,random_state=1)"
      ],
      "execution_count": null,
      "outputs": []
    },
    {
      "cell_type": "code",
      "metadata": {
        "id": "ToLUefjmBVXg",
        "colab": {
          "base_uri": "https://localhost:8080/"
        },
        "outputId": "848efa20-e0cc-4775-d35f-7f79da4ace77"
      },
      "source": [
        "#To check the correctness of splitting\n",
        "trainval=(1.0 * len(x_train)/(1.0 * len(data.index)))\n",
        "testval=(len(x_test))/(len(data.index))\n",
        "print(trainval)\n",
        "print(testval)\n",
        "print('{0:0.2f}% in training set '.format((trainval)*100))\n",
        "print('{0:0.2f}% in testing set '.format((testval)*100))"
      ],
      "execution_count": null,
      "outputs": [
        {
          "output_type": "stream",
          "text": [
            "0.6998644986449865\n",
            "0.30013550135501355\n",
            "69.99% in training set \n",
            "30.01% in testing set \n"
          ],
          "name": "stdout"
        }
      ]
    },
    {
      "cell_type": "markdown",
      "metadata": {
        "id": "_mV4ILH5t0Zv"
      },
      "source": [
        "# **DECISION TREE**"
      ]
    },
    {
      "cell_type": "code",
      "metadata": {
        "id": "LM7qx46tBXrO"
      },
      "source": [
        "from sklearn.tree import DecisionTreeClassifier"
      ],
      "execution_count": null,
      "outputs": []
    },
    {
      "cell_type": "code",
      "metadata": {
        "id": "CJxDHDZEBfgh",
        "colab": {
          "base_uri": "https://localhost:8080/"
        },
        "outputId": "f62bba5b-c4fc-4e2d-f9c0-6fba76f79244"
      },
      "source": [
        "clf_gini = DecisionTreeClassifier(criterion = \"gini\",random_state = 100,\n",
        "                              min_samples_leaf=5)\n",
        "clf_gini.fit(x_train, y_train)"
      ],
      "execution_count": null,
      "outputs": [
        {
          "output_type": "execute_result",
          "data": {
            "text/plain": [
              "DecisionTreeClassifier(ccp_alpha=0.0, class_weight=None, criterion='gini',\n",
              "                       max_depth=None, max_features=None, max_leaf_nodes=None,\n",
              "                       min_impurity_decrease=0.0, min_impurity_split=None,\n",
              "                       min_samples_leaf=5, min_samples_split=2,\n",
              "                       min_weight_fraction_leaf=0.0, presort='deprecated',\n",
              "                       random_state=100, splitter='best')"
            ]
          },
          "metadata": {
            "tags": []
          },
          "execution_count": 11
        }
      ]
    },
    {
      "cell_type": "code",
      "metadata": {
        "id": "zr5mL0sJBh2w",
        "colab": {
          "base_uri": "https://localhost:8080/"
        },
        "outputId": "afaf4b7a-96cc-41a2-8289-f32cfbe06663"
      },
      "source": [
        "y_pred = clf_gini.predict(x_test)\n",
        "y_pred"
      ],
      "execution_count": null,
      "outputs": [
        {
          "output_type": "execute_result",
          "data": {
            "text/plain": [
              "array([  0,  64, 143,   4,   0,  64,   0,   0,   4,   4,   4,   0, 349,\n",
              "         4,   0, 395,  64,   0, 365,   0,   0,  64,  19,  19,  64, 143,\n",
              "       464,  64, 512,  19,   4,   0,   0,  64,   0,   0,   0,  19,   0,\n",
              "         0,   0,   0,  19, 243, 143, 365, 365,   0,   0, 273,  19,   0,\n",
              "         0,   4,   0,   0, 319,   4,   4,   0,   4,   4,   0,  64,  64,\n",
              "        19,  19, 349,   0,   4,   0,   0,   4,  64,   0,   0,   4, 349,\n",
              "         4,   0, 464,  64,   0,   0,   4, 319,   0,   0,   4,   4,  19,\n",
              "       319,  64,  64,   0,   0,  19,  19, 512,   4, 395,  64,   4, 243,\n",
              "         0,  19,   4,  19, 319,  64, 365,   4,   4,   0,   4,   0,   0,\n",
              "       243,  64, 349,  64,   0,  19, 319, 143,   0,  19,  64,   0, 365,\n",
              "       319,  64,  19, 273,  64, 583,   0,  19,   0,   0, 349,   0, 243,\n",
              "       243, 464,   0,   0,   0, 464,   0, 243,   4,   0,   4,   4,   0,\n",
              "       464, 273,   0,   4,   0,   0,   0,  64, 273, 349, 143,  64,   0,\n",
              "       365,   0,  64,  64,   0,   0, 143,  64, 583,  19,  64,   0,   4,\n",
              "         0,   0, 365,   0, 273,   0, 365, 243, 319,  19, 365,   0,   0,\n",
              "         4,   0,   0, 395, 243,   0,   0, 243, 319,   0,  64,  19,  19,\n",
              "         0,   4,   0,  64,   0, 395,   4,   0, 395,   4,   0,   4,   0,\n",
              "         0,   4,   0, 243,  19,   0, 243,   4, 319,   0,   4, 273,  64,\n",
              "       243,  64, 243,  19,   0,   0,   4,  19,   0,   4,  19, 464,  19,\n",
              "         4,   0,   0,  19,   0,   0,   0,   4,   0, 319,  64, 243, 464,\n",
              "         4, 319,  64,   0,   4,  19,   4,   4,  19,  19, 349, 143,   0,\n",
              "         4, 243,  64,   0,   0, 464,  19, 464,  64,   0,   0, 464, 464,\n",
              "        19,  64, 273,   0,   4,  19,   0, 512,   4,  64,   4, 143,   0,\n",
              "       365, 319,   0,   0,   0,  19,   0,  64,  19, 349, 395,   0,   0,\n",
              "        64,   0,   4,   4,   0,   0,   0,   4,   4,  19, 273,   4, 319,\n",
              "       365,   4, 243, 243,   0,  64,   0, 395,   0, 464,   0,  64,   0,\n",
              "         0,  19,   0,   4,  64,   0,   0, 273,  64,  64, 349, 349,   4,\n",
              "         4,   4,  64, 273,  64,  64,   0, 349,   0,   0,  19,  64,   4,\n",
              "        64, 143,   4, 365,   0,  64,   0, 395,   0,  19,   0,  64,  64,\n",
              "       365,  19,   4,   4,   0,   0,   4,  19,   0,   0,   0,  19, 349,\n",
              "         0,   4,   4,   0,   0,  19,   0, 512, 143, 395, 243, 512, 273,\n",
              "         0,   0,   0,   4, 319,   4,   0,  19,  19,  19, 349,  64,   0,\n",
              "         4,   0,   0,  64, 273,   4,   4,   0,   0, 273,   0,  19, 349,\n",
              "         0,   0,   4,   0, 464,   4,   0,   0,   4,  19,   0,  64,   0,\n",
              "        64])"
            ]
          },
          "metadata": {
            "tags": []
          },
          "execution_count": 12
        }
      ]
    },
    {
      "cell_type": "code",
      "metadata": {
        "id": "p7ueoshFHm5i"
      },
      "source": [
        "from sklearn.metrics import accuracy_score"
      ],
      "execution_count": null,
      "outputs": []
    },
    {
      "cell_type": "code",
      "metadata": {
        "id": "7jwCaJ9OHpbM",
        "colab": {
          "base_uri": "https://localhost:8080/"
        },
        "outputId": "d5ff578e-63cc-4ee3-e740-fafd638daa97"
      },
      "source": [
        "print (\"Accuracy is \"), accuracy_score(y_test,y_pred)*100"
      ],
      "execution_count": null,
      "outputs": [
        {
          "output_type": "stream",
          "text": [
            "Accuracy is \n"
          ],
          "name": "stdout"
        },
        {
          "output_type": "execute_result",
          "data": {
            "text/plain": [
              "(None, 100.0)"
            ]
          },
          "metadata": {
            "tags": []
          },
          "execution_count": 14
        }
      ]
    },
    {
      "cell_type": "code",
      "metadata": {
        "id": "PigyOgLqI5Lo",
        "colab": {
          "base_uri": "https://localhost:8080/"
        },
        "outputId": "d99442c7-479d-466c-ce3d-6b29638525d5"
      },
      "source": [
        "clf_gini.predict([[70,20,10]])"
      ],
      "execution_count": null,
      "outputs": [
        {
          "output_type": "execute_result",
          "data": {
            "text/plain": [
              "array([349])"
            ]
          },
          "metadata": {
            "tags": []
          },
          "execution_count": 15
        }
      ]
    },
    {
      "cell_type": "code",
      "metadata": {
        "id": "2wlCoJ9YHr0o",
        "colab": {
          "base_uri": "https://localhost:8080/"
        },
        "outputId": "b88a044e-58e8-4ace-8c35-41a289b3de4f"
      },
      "source": [
        "clf_entropy = DecisionTreeClassifier(criterion = \"entropy\",random_state = 100,\n",
        " min_samples_leaf=5)\n",
        "clf_entropy.fit(x_train, y_train)"
      ],
      "execution_count": null,
      "outputs": [
        {
          "output_type": "execute_result",
          "data": {
            "text/plain": [
              "DecisionTreeClassifier(ccp_alpha=0.0, class_weight=None, criterion='entropy',\n",
              "                       max_depth=None, max_features=None, max_leaf_nodes=None,\n",
              "                       min_impurity_decrease=0.0, min_impurity_split=None,\n",
              "                       min_samples_leaf=5, min_samples_split=2,\n",
              "                       min_weight_fraction_leaf=0.0, presort='deprecated',\n",
              "                       random_state=100, splitter='best')"
            ]
          },
          "metadata": {
            "tags": []
          },
          "execution_count": 16
        }
      ]
    },
    {
      "cell_type": "code",
      "metadata": {
        "id": "i27EiyaPH5dQ",
        "colab": {
          "base_uri": "https://localhost:8080/"
        },
        "outputId": "01a8da14-a658-4cec-a335-017ba87fb165"
      },
      "source": [
        "y_pred_en = clf_entropy.predict(x_test)\n",
        "y_pred_en"
      ],
      "execution_count": null,
      "outputs": [
        {
          "output_type": "execute_result",
          "data": {
            "text/plain": [
              "array([  0,  64, 143,   4,   0,  64,   0,   0,   4,   4,   4,   0, 349,\n",
              "         4,   0, 395,  64,   0, 365,   0,   0,  64,  19,  19,  64, 143,\n",
              "       464,  64, 512,  19,   4,   0,   0,  64,   0,   0,   0,  19,   0,\n",
              "         0,   0,   0,  19, 243, 143, 365, 365,   0,   0, 273,  19,   0,\n",
              "         0,   4,   0,   0, 319,   4,   4,   0,   4,   4,   0,  64,  64,\n",
              "        19,  19, 349,   0,   4,   0,   0,   4,  64,   0,   0,   4, 349,\n",
              "         4,   0, 464,  64,   0,   0,   4, 319,   0,   0,   4,   4,  19,\n",
              "       319,  64,  64,   0,   0,  19,  19, 512,   4, 395,  64,   4, 243,\n",
              "         0,  19,   4,  19, 319,  64, 365,   4,   4,   0,   4,   0,   0,\n",
              "       243,  64, 349,  64,   0,  19, 319, 143,   0,  19,  64,   0, 365,\n",
              "       319,  64,  19, 273,  64, 583,   0,  19,   0,   0, 349,   0, 243,\n",
              "       243, 464,   0,   0,   0, 464,   0, 243,   4,   0,   4,   4,   0,\n",
              "       464, 273,   0,   4,   0,   0,   0,  64, 273, 349, 143,  64,   0,\n",
              "       365,   0,  64,  64,   0,   0, 143,  64, 583,  19,  64,   0,   4,\n",
              "         0,   0, 365,   0, 273,   0, 365, 243, 319,  19, 365,   0,   0,\n",
              "         4,   0,   0, 395, 243,   0,   0, 243, 319,   0,  64,  19,  19,\n",
              "         0,   4,   0,  64,   0, 395,   4,   0, 395,   4,   0,   4,   0,\n",
              "         0,   4,   0, 243,  19,   0, 243,   4, 319,   0,   4, 273,  64,\n",
              "       243,  64, 243,  19,   0,   0,   4,  19,   0,   4,  19, 464,  19,\n",
              "         4,   0,   0,  19,   0,   0,   0,   4,   0, 319,  64, 243, 464,\n",
              "         4, 319,  64,   0,   4,  19,   4,   4,  19,  19, 349, 143,   0,\n",
              "         4, 243,  64,   0,   0, 464,  19, 464,  64,   0,   0, 464, 464,\n",
              "        19,  64, 273,   0,   4,  19,   0, 512,   4,  64,   4, 143,   0,\n",
              "       365, 319,   0,   0,   0,  19,   0,  64,  19, 349, 395,   0,   0,\n",
              "        64,   0,   4,   4,   0,   0,   0,   4,   4,  19, 273,   4, 319,\n",
              "       365,   4, 243, 243,   0,  64,   0, 395,   0, 464,   0,  64,   0,\n",
              "         0,  19,   0,   4,  64,   0,   0, 273,  64,  64, 349, 349,   4,\n",
              "         4,   4,  64, 273,  64,  64,   0, 349,   0,   0,  19,  64,   4,\n",
              "        64, 143,   4, 365,   0,  64,   0, 395,   0,  19,   0,  64,  64,\n",
              "       365,  19,   4,   4,   0,   0,   4,  19,   0,   0,   0,  19, 349,\n",
              "         0,   4,   4,   0,   0,  19,   0, 512, 143, 395, 243, 512, 273,\n",
              "         0,   0,   0,   4, 319,   4,   0,  19,  19,  19, 349,  64,   0,\n",
              "         4,   0,   0,  64, 273,   4,   4,   0,   0, 273,   0,  19, 349,\n",
              "         0,   0,   4,   0, 464,   4,   0,   0,   4,  19,   0,  64,   0,\n",
              "        64])"
            ]
          },
          "metadata": {
            "tags": []
          },
          "execution_count": 17
        }
      ]
    },
    {
      "cell_type": "code",
      "metadata": {
        "id": "-xt4F_-dH7ZX",
        "colab": {
          "base_uri": "https://localhost:8080/"
        },
        "outputId": "ffddfd4d-6bbc-4657-9362-d1d0a942677d"
      },
      "source": [
        "print (\"Accuracy is \"), accuracy_score(y_test,y_pred_en)*100"
      ],
      "execution_count": null,
      "outputs": [
        {
          "output_type": "stream",
          "text": [
            "Accuracy is \n"
          ],
          "name": "stdout"
        },
        {
          "output_type": "execute_result",
          "data": {
            "text/plain": [
              "(None, 100.0)"
            ]
          },
          "metadata": {
            "tags": []
          },
          "execution_count": 18
        }
      ]
    },
    {
      "cell_type": "markdown",
      "metadata": {
        "id": "OR8Jixbmt5qv"
      },
      "source": [
        "# **RANDOM FOREST**"
      ]
    },
    {
      "cell_type": "code",
      "metadata": {
        "id": "IEKjHEMSH9dE"
      },
      "source": [
        "from sklearn.ensemble import RandomForestClassifier\n",
        "rfc=RandomForestClassifier()"
      ],
      "execution_count": null,
      "outputs": []
    },
    {
      "cell_type": "code",
      "metadata": {
        "id": "03MthTuzIBe-",
        "colab": {
          "base_uri": "https://localhost:8080/"
        },
        "outputId": "340eea5b-8c5c-41a3-8562-af8c91ec87e9"
      },
      "source": [
        "rfc.fit(x_train,y_train.ravel())"
      ],
      "execution_count": null,
      "outputs": [
        {
          "output_type": "execute_result",
          "data": {
            "text/plain": [
              "RandomForestClassifier(bootstrap=True, ccp_alpha=0.0, class_weight=None,\n",
              "                       criterion='gini', max_depth=None, max_features='auto',\n",
              "                       max_leaf_nodes=None, max_samples=None,\n",
              "                       min_impurity_decrease=0.0, min_impurity_split=None,\n",
              "                       min_samples_leaf=1, min_samples_split=2,\n",
              "                       min_weight_fraction_leaf=0.0, n_estimators=100,\n",
              "                       n_jobs=None, oob_score=False, random_state=None,\n",
              "                       verbose=0, warm_start=False)"
            ]
          },
          "metadata": {
            "tags": []
          },
          "execution_count": 20
        }
      ]
    },
    {
      "cell_type": "code",
      "metadata": {
        "id": "wswFFAjEIDVS",
        "colab": {
          "base_uri": "https://localhost:8080/"
        },
        "outputId": "383b2858-9a55-4321-c3f8-b111e8a716f1"
      },
      "source": [
        "y_pred_rfc = rfc.predict(x_test)\n",
        "y_pred_rfc"
      ],
      "execution_count": null,
      "outputs": [
        {
          "output_type": "execute_result",
          "data": {
            "text/plain": [
              "array([  0,  64, 143,   4,   0,  64,   0,   0,   4,   4,   4,   0, 349,\n",
              "         4,   0, 395,  64,   0, 365,   0,   0,  64,  19,  19,  64, 273,\n",
              "       464,  64, 512,  19,   4,   0,   0,  64,   0,   0,   0,  19,   0,\n",
              "         0,   0,   0,  19, 243, 143, 365, 319,   0,   0, 273,  19,   0,\n",
              "         0,   4,   0,   0, 365,   4,   4,   0,   4,   4,   0,  64,  64,\n",
              "        19,  19, 349,   0,   4,   0,   0,   4,  64,   0,   0,   4, 349,\n",
              "         4,   0, 243,  64,   0,   0,   4, 349,   0,   0,   4,   4,  19,\n",
              "       319,  64,  64,   0,   0,  19,  19, 512,   4, 395,  64,   4, 243,\n",
              "         0,  19,   4,  19,  64,  64, 365,   4,   4,   0,   4,   0,   0,\n",
              "       143,  64, 349,  64,   0,  19, 319, 319,   0,  19,  64,   0, 365,\n",
              "       243,  64,  19, 243,  64, 512,   0,  19,   0,   0, 365,   0, 243,\n",
              "       243, 464,   0,   0,   0, 365,   0, 349,   4,   0,   4,   4,   0,\n",
              "       464, 143,   0,   4,   0,   0,   0,  64, 319, 349, 273,  64,   0,\n",
              "       365,   0,  64,  64,   0,   0, 143,  64, 512,  19,  64,   0,   4,\n",
              "         0,   0, 319,   0, 319,   0, 365, 243, 319,  19, 365,   0,   0,\n",
              "         4,   0,   0, 349, 319,   0,   0, 273, 319,   0,  64,  19,  19,\n",
              "         0,   4,   0,  64,   0, 395,   4,   0, 395,   4,   0,   4,   0,\n",
              "         0,   4,   0, 273,  19,   0, 273,   4, 319,   0,   4, 243,  64,\n",
              "       349,  64, 143,  19,   0,   0,   4,  19,   0,   4,  19, 512,  19,\n",
              "         4,   0,   0,  19,   0,   0,   0,   4,   0, 349,  64, 319, 464,\n",
              "         4, 319,  64,   0,   4,  19,   4,   4,  19,  19, 349, 243,   0,\n",
              "         4, 243,  64,   0,   0, 464,  19, 464,  64,   0,   0, 464, 365,\n",
              "        19,  64, 243,   0,   4,  19,   0, 349,   4,  64,   4, 243,   0,\n",
              "       464, 349,   0,   0,   0,  19,   0,  64,  19, 349, 395,   0,   0,\n",
              "        64,   0,   4,   4,   0,   0,   0,   4,   4,  19, 273,   4, 319,\n",
              "       365,   4, 243, 273,   0,  64,   0, 349,   0, 319,   0,  64,   0,\n",
              "         0,  19,   0,   4,  64,   0,   0, 349,  64,  64, 349, 349,   4,\n",
              "         4,   4,  64, 243,  64,  64,   0, 349,   0,   0,  19,  64,   4,\n",
              "        64, 243,   4, 365,   0,  64,   0, 395,   0,  19,   0,  64,  64,\n",
              "       365,  19,   4,   4,   0,   0,   4,  19,   0,   0,   0,  19, 349,\n",
              "         0,   4,   4,   0,   0,  19,   0, 464, 143, 395, 243, 395, 273,\n",
              "         0,   0,   0,   4, 319,   4,   0,  19,  19,  19, 349,  64,   0,\n",
              "         4,   0,   0,  64, 273,   4,   4,   0,   0, 143,   0,  19, 365,\n",
              "         0,   0,   4,   0, 464,   4,   0,   0,   4,  19,   0,  64,   0,\n",
              "        64])"
            ]
          },
          "metadata": {
            "tags": []
          },
          "execution_count": 21
        }
      ]
    },
    {
      "cell_type": "code",
      "metadata": {
        "id": "PftxXTdgIFb1",
        "colab": {
          "base_uri": "https://localhost:8080/"
        },
        "outputId": "65a88747-0795-4ff5-d20f-cbbea7675f6e"
      },
      "source": [
        "print (\"Accuracy is \"), accuracy_score(y_test,y_pred_rfc)*100"
      ],
      "execution_count": null,
      "outputs": [
        {
          "output_type": "stream",
          "text": [
            "Accuracy is \n"
          ],
          "name": "stdout"
        },
        {
          "output_type": "execute_result",
          "data": {
            "text/plain": [
              "(None, 89.1647855530474)"
            ]
          },
          "metadata": {
            "tags": []
          },
          "execution_count": 22
        }
      ]
    },
    {
      "cell_type": "markdown",
      "metadata": {
        "id": "rBNjBdI4t-Ph"
      },
      "source": [
        "# **KNN**"
      ]
    },
    {
      "cell_type": "code",
      "metadata": {
        "id": "qQunuxY6IHRY"
      },
      "source": [
        "from sklearn.neighbors import KNeighborsClassifier\n",
        "knn=KNeighborsClassifier(n_neighbors=5)"
      ],
      "execution_count": null,
      "outputs": []
    },
    {
      "cell_type": "code",
      "metadata": {
        "id": "WFLBBSvGMBFi",
        "colab": {
          "base_uri": "https://localhost:8080/"
        },
        "outputId": "2930295e-4ed1-4c71-ef93-213a06fde413"
      },
      "source": [
        "knn.fit(x_train,y_train.ravel())"
      ],
      "execution_count": null,
      "outputs": [
        {
          "output_type": "execute_result",
          "data": {
            "text/plain": [
              "KNeighborsClassifier(algorithm='auto', leaf_size=30, metric='minkowski',\n",
              "                     metric_params=None, n_jobs=None, n_neighbors=5, p=2,\n",
              "                     weights='uniform')"
            ]
          },
          "metadata": {
            "tags": []
          },
          "execution_count": 24
        }
      ]
    },
    {
      "cell_type": "code",
      "metadata": {
        "id": "hGqSUlpSMDcl",
        "colab": {
          "base_uri": "https://localhost:8080/"
        },
        "outputId": "29b6dafe-292c-4376-cf74-bc410407c0c4"
      },
      "source": [
        "y_pred_knn = knn.predict(x_test)\n",
        "y_pred_knn"
      ],
      "execution_count": null,
      "outputs": [
        {
          "output_type": "execute_result",
          "data": {
            "text/plain": [
              "array([  0,  64,  64,   4,   0,  64,   0,   0,   4,   4,   4,   0, 349,\n",
              "         4,   0, 395,  64,   0, 349,   0,   0,  64,  19,  19,  64,  64,\n",
              "       464,  64, 512,  19,   4,   0,   0,  64,   0,   0,   0,  19,   0,\n",
              "         0,   0,   0,  19, 143,  64, 319, 319,   0,   0, 273,  19,   0,\n",
              "         0,   4,   0,   0, 349,   4,   4,   0,   4,   4,   0,  64,  64,\n",
              "        19,  19, 349,   0,  19,   0,   0,   4,  64,   0,   0,   4, 349,\n",
              "         4,   0, 464,  64,   0,   0,  19, 349,   0,   0,   4,   4,  19,\n",
              "       319,  64,  64,   0,   0,  19,  19, 464,   4, 395,  64,   4, 243,\n",
              "         0,  19,   4,  19, 319,  64, 365,   4,   4,   0,   4,   0,   0,\n",
              "       319,  64, 365,  64,   0,  19, 319, 143,   0,  64,  64,   0, 365,\n",
              "       273,  64,  19, 243,  64, 512,   0,  19,   0,   0, 319,   0,  64,\n",
              "        64, 395,   0,   0,   0, 464,   0, 243,   4,   0,   4,   4,   0,\n",
              "       464, 143,   0,   4,   0,   0,   0,  64, 243, 319, 243,  64,   0,\n",
              "       319,   4,  64,  64,   0,   0, 143,  64, 512,  19,  64,   0,   4,\n",
              "         0,   0, 273,   0, 143,   0, 349,  64, 319,  19, 365,   0,   0,\n",
              "         4,   0,   0, 349, 319,   0,   0, 243, 319,   0,  64,  19,  19,\n",
              "         0,   4,   0,  64,   0, 395,   4,   0, 349,   4,   0,   4,   4,\n",
              "         0,   4,   0, 243,  19,   0, 273,   4, 349,   0,   4, 243,  64,\n",
              "       143,  64, 143,  19,   0,   0,   4,  19,   0,   4,  19, 464,  19,\n",
              "         0,   0,   0,  19,   0,   0,   0,   4,   0, 273,  64, 319, 464,\n",
              "         4, 319,  64,   0,   4,   4,   4,   4,  19,  19, 319, 143,   0,\n",
              "         4,  64,  64,   0,   0, 464,  19, 464,  64,   0,   0, 464, 464,\n",
              "        19,  64, 273,   0,   4,  19,   0, 349,   0,  64,   4, 143,   0,\n",
              "       349, 349,   0,   0,   0,  19,   0,  64,  19, 319, 395,   0,   0,\n",
              "       143,   0,   4,   4,   0,   0,   0,   4,   4,  19, 273,   4, 349,\n",
              "       349,   4, 319, 243,   0,  64,   0, 349,   0, 395,   0,  64,   0,\n",
              "         0,  19,   0,   4,  64,   0,   0, 349, 143,  64, 349, 319,   0,\n",
              "        19,   4,  64, 243,  64,  64,   0, 365,   0,   0,  19,  64,   4,\n",
              "        64, 243,   4, 349,   0,  64,   0, 395,   0,  19,   0,  64,  64,\n",
              "       319,  19,   4,   4,   0,   0,   4,  19,   0,   0,   0,  19, 349,\n",
              "         0,   4,   4,   0,   0,  19,   0, 464, 143, 349, 243, 464, 273,\n",
              "         0,   0,   0,   4, 273,  19,   0,  19,  19,  19, 349,  64,   0,\n",
              "         4,   0,   0,  64, 319,   0,  19,   0,   0, 143,   0,  19, 365,\n",
              "         0,   4,   4,   0, 464,   4,   0,   0,   4,  19,   0,  64,   0,\n",
              "        64])"
            ]
          },
          "metadata": {
            "tags": []
          },
          "execution_count": 25
        }
      ]
    },
    {
      "cell_type": "code",
      "metadata": {
        "id": "bQxpDdAsMM_g",
        "colab": {
          "base_uri": "https://localhost:8080/"
        },
        "outputId": "1fe89166-3647-44f1-86e8-17ed7125e994"
      },
      "source": [
        "print (\"Accuracy is \"), accuracy_score(y_test,y_pred_knn)*100"
      ],
      "execution_count": null,
      "outputs": [
        {
          "output_type": "stream",
          "text": [
            "Accuracy is \n"
          ],
          "name": "stdout"
        },
        {
          "output_type": "execute_result",
          "data": {
            "text/plain": [
              "(None, 81.941309255079)"
            ]
          },
          "metadata": {
            "tags": []
          },
          "execution_count": 26
        }
      ]
    },
    {
      "cell_type": "markdown",
      "metadata": {
        "id": "EjJ1PcSEuCw9"
      },
      "source": [
        "# **NAIVE BAYES**"
      ]
    },
    {
      "cell_type": "code",
      "metadata": {
        "id": "ZJpc2cYOMQFY"
      },
      "source": [
        "from sklearn.naive_bayes import GaussianNB"
      ],
      "execution_count": null,
      "outputs": []
    },
    {
      "cell_type": "code",
      "metadata": {
        "id": "2p_x7pnRSM28",
        "colab": {
          "base_uri": "https://localhost:8080/"
        },
        "outputId": "1e14b160-482b-4d05-b45e-1f90b2c7f308"
      },
      "source": [
        "classifier=GaussianNB()\n",
        "classifier.fit(x_train,y_train.ravel())"
      ],
      "execution_count": null,
      "outputs": [
        {
          "output_type": "execute_result",
          "data": {
            "text/plain": [
              "GaussianNB(priors=None, var_smoothing=1e-09)"
            ]
          },
          "metadata": {
            "tags": []
          },
          "execution_count": 28
        }
      ]
    },
    {
      "cell_type": "code",
      "metadata": {
        "id": "gWco-5KVSPLT",
        "colab": {
          "base_uri": "https://localhost:8080/"
        },
        "outputId": "d6b672e5-17e1-4457-8416-7ed48ad3db1c"
      },
      "source": [
        "y_pred_nb = classifier.predict(x_test)\n",
        "y_pred_nb"
      ],
      "execution_count": null,
      "outputs": [
        {
          "output_type": "execute_result",
          "data": {
            "text/plain": [
              "array([  0,  64, 143,   4,   0,  64,   0,   0,   4,   4,   0,   0, 349,\n",
              "         4,   0, 395,  64,   0, 365,   0,   0,  64,  19,  19,  64, 143,\n",
              "       464,  64, 512,  19,   4,   0,   0,  64,   0,   0,   0,  19,   0,\n",
              "         0,   0,   0,  19, 243, 143, 365, 365,   0,   0, 273,  19,   0,\n",
              "         0,   4,   0,   0, 319,   4,   4,   0,   4,   4,   0,  64,  64,\n",
              "        19,  19, 349,   0,   4,   0,   0,   4,  64,   0,   0,   4, 349,\n",
              "         4,   0, 464,  64,   0,   0,   4, 319,   0,   0,   4,   4,  19,\n",
              "       319,  64,  64,   0,   0,  19,  19, 512,   4, 395,  64,   4, 243,\n",
              "         0,  19,   4,  19, 319,  64, 365,   4,   4,   0,   4,   0,   0,\n",
              "       243,  64, 349,  64,   0,  19, 319, 143,   0,  19,  64,   0, 365,\n",
              "       319,  64,  19, 273,  64, 583,   0,  19,   0,   0, 349,   0, 243,\n",
              "       243, 464,   0,   0,   0, 464,   0, 243,   4,   0,   0,   4,   0,\n",
              "       464, 273,   0,   4,   0,   0,   0,  64, 273, 349, 143,  64,   0,\n",
              "       365,   0,  64,  64,   0,   0, 143,  64, 512,  19,  64,   0,   4,\n",
              "         0,   0, 365,   0, 273,   0, 365, 243, 319,  19, 365,   0,   0,\n",
              "         4,   0,   0, 395, 243,   0,   0, 243, 319,   0,  64,  19,  19,\n",
              "         0,   4,   0,  64,   0, 395,   4,   0, 395,   4,   0,   4,   0,\n",
              "         0,   4,   0, 243,  19,   0, 243,   4, 319,   0,   4, 273,  64,\n",
              "       243,  64, 243,  19,   0,   4,   4,  19,   0,   4,  19, 464,  19,\n",
              "         4,   0,   0,  19,   0,   0,   0,   4,   0, 319,  64, 243, 464,\n",
              "         4, 319,  64,   0,   4,   4,   4,   4,  19,  19, 349, 143,   0,\n",
              "         4, 243,  64,   0,   0, 464,  19, 464,  64,   0,   0, 464, 464,\n",
              "        19,  64, 273,   0,   4,  19,   0, 512,   4,  64,   4, 143,   0,\n",
              "       365, 319,   0,   0,   0,  19,   0,  64,  19, 349, 395,   0,   0,\n",
              "        64,   0,   4,   4,   0,   0,   0,   4,   4,  19, 273,   4, 319,\n",
              "       365,   4, 243, 243,   0,  64,   0, 395,   0, 464,   0,  64,   0,\n",
              "         0,  19,   0,   4,  64,   0,   0, 273,  64,  64, 349, 349,   4,\n",
              "         4,   4,  64, 273,  64,  64,   0, 349,   0,   0,  19,  64,   4,\n",
              "        64, 143,   4, 365,   0,  64,   0, 395,   0,  19,   0,  64,  64,\n",
              "       365,  19,   4,   4,   0,   0,   4,  19,   0,   0,   0,  19, 349,\n",
              "         0,   4,   4,   0,   0,  19,   0, 512, 143, 395, 243, 512, 273,\n",
              "         0,   0,   0,   4, 319,  19,   0,  19,  19,  19, 349,  64,   0,\n",
              "         4,   0,   0,  64, 273,   4,  19,   0,   0, 273,   0,  19, 349,\n",
              "         0,   4,   4,   0, 464,   4,   0,   0,   4,  19,   0,  64,   0,\n",
              "        64])"
            ]
          },
          "metadata": {
            "tags": []
          },
          "execution_count": 29
        }
      ]
    },
    {
      "cell_type": "code",
      "metadata": {
        "id": "RFAXHTh1SROV",
        "colab": {
          "base_uri": "https://localhost:8080/"
        },
        "outputId": "263c702a-fae1-4b03-b017-1f613bec5b8c"
      },
      "source": [
        "print (\"Accuracy is \"), accuracy_score(y_test,y_pred_nb)*100"
      ],
      "execution_count": null,
      "outputs": [
        {
          "output_type": "stream",
          "text": [
            "Accuracy is \n"
          ],
          "name": "stdout"
        },
        {
          "output_type": "execute_result",
          "data": {
            "text/plain": [
              "(None, 98.1941309255079)"
            ]
          },
          "metadata": {
            "tags": []
          },
          "execution_count": 30
        }
      ]
    },
    {
      "cell_type": "code",
      "metadata": {
        "id": "K4yKD1IbSTnu"
      },
      "source": [
        ""
      ],
      "execution_count": null,
      "outputs": []
    }
  ]
}